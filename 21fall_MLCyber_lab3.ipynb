{
  "cells": [
    {
      "cell_type": "code",
      "execution_count": 1,
      "metadata": {
        "colab": {
          "base_uri": "https://localhost:8080/"
        },
        "id": "KSKUSQBAMDNI",
        "outputId": "9b1a3157-0167-42fc-a601-91f453bb8869"
      },
      "outputs": [
        {
          "output_type": "stream",
          "name": "stdout",
          "text": [
            "Mounted at /content/drive\n"
          ]
        }
      ],
      "source": [
        "from google.colab import drive\n",
        "drive.mount('/content/drive')"
      ]
    },
    {
      "cell_type": "code",
      "execution_count": null,
      "metadata": {
        "id": "O9d5WCD-M4be"
      },
      "outputs": [],
      "source": [
        "import os\n",
        "os.chdir(\"/content/drive/MyDrive/courses/21_fall/ML/lab3\")"
      ]
    },
    {
      "cell_type": "code",
      "execution_count": null,
      "metadata": {
        "id": "gbdRYkjqk-CQ"
      },
      "outputs": [],
      "source": [
        "import tensorflow as tf\n",
        "import tensorflow.keras as keras\n",
        "import sys\n",
        "import h5py\n",
        "import numpy as np"
      ]
    },
    {
      "cell_type": "code",
      "execution_count": null,
      "metadata": {
        "id": "6inpmrsTQxat"
      },
      "outputs": [],
      "source": [
        "def data_loader(filepath):\n",
        "    data = h5py.File(filepath, 'r')\n",
        "    x_data = np.array(data['data'])\n",
        "    y_data = np.array(data['label'])\n",
        "    x_data = x_data.transpose((0, 2, 3, 1))\n",
        "\n",
        "    return x_data, y_data\n"
      ]
    },
    {
      "cell_type": "code",
      "execution_count": null,
      "metadata": {
        "id": "h1ISbHifzktQ"
      },
      "outputs": [],
      "source": [
        "clean_data_filename = './valid.h5'\n",
        "clean_testdata_filename = './test.h5'\n",
        "poisoned_data_filename = './bd_test.h5'\n",
        "model_filename = './bd_net.h5'\n",
        "\n",
        "cl_x_valid, cl_y_valid = data_loader(clean_data_filename)\n",
        "cl_x_test, cl_y_test = data_loader(clean_testdata_filename)\n",
        "bd_x_test, bd_y_test = data_loader(poisoned_data_filename)\n",
        "net = keras.models.load_model(model_filename)"
      ]
    },
    {
      "cell_type": "code",
      "execution_count": null,
      "metadata": {
        "id": "AN3IawUo5z-C"
      },
      "outputs": [],
      "source": [
        "import pandas as pd"
      ]
    },
    {
      "cell_type": "code",
      "execution_count": null,
      "metadata": {
        "colab": {
          "base_uri": "https://localhost:8080/"
        },
        "id": "01YqOQLf8kVe",
        "outputId": "bdc8beaa-6b7b-4a88-c622-9baf600e5404"
      },
      "outputs": [
        {
          "name": "stdout",
          "output_type": "stream",
          "text": [
            "(11547, 5, 4, 60)\n"
          ]
        }
      ],
      "source": [
        "pool3 = net.get_layer('pool_3').output\n",
        "pool3_net = keras.models.Model(net.input, pool3)\n",
        "activation_all = pool3_net.predict(cl_x_valid)\n",
        "print(activation_all.shape)"
      ]
    },
    {
      "cell_type": "code",
      "execution_count": null,
      "metadata": {
        "colab": {
          "base_uri": "https://localhost:8080/"
        },
        "id": "G6_HAqfB9imy",
        "outputId": "a32eb0ec-fea4-452d-afa4-0d8adf9bfb91"
      },
      "outputs": [
        {
          "name": "stdout",
          "output_type": "stream",
          "text": [
            "(60,)\n"
          ]
        }
      ],
      "source": [
        "activation = np.mean(activation_all, axis=(0,1,2))\n",
        "print(activation.shape)"
      ]
    },
    {
      "cell_type": "code",
      "execution_count": null,
      "metadata": {
        "colab": {
          "base_uri": "https://localhost:8080/"
        },
        "id": "jUZ6ewnAFHny",
        "outputId": "54574266-f8fa-4a65-8d3d-18f5130be792"
      },
      "outputs": [
        {
          "name": "stdout",
          "output_type": "stream",
          "text": [
            "Original Classification accuracy: 98.64899974019225\n"
          ]
        }
      ],
      "source": [
        "cl_label_or = np.argmax(net.predict(cl_x_valid), axis=1)\n",
        "or_accuracy = np.mean(np.equal(cl_label_or, cl_y_valid))*100\n",
        "print('Original Classification accuracy:', or_accuracy)"
      ]
    },
    {
      "cell_type": "code",
      "execution_count": null,
      "metadata": {
        "colab": {
          "base_uri": "https://localhost:8080/"
        },
        "id": "20ZHfcom9seN",
        "outputId": "3218863e-57f5-4b64-a2ae-3003e9bb89ca"
      },
      "outputs": [
        {
          "name": "stdout",
          "output_type": "stream",
          "text": [
            "Clean Valid Classification accuracy: 98.64899974019225\n",
            "Clean Classification accuracy: 98.64899974019225\n",
            "Attack Success Rate: 100.0\n",
            "Clean Valid Classification accuracy: 98.64899974019225\n",
            "Clean Classification accuracy: 98.64899974019225\n",
            "Attack Success Rate: 100.0\n",
            "Clean Valid Classification accuracy: 98.64899974019225\n",
            "Clean Classification accuracy: 98.64899974019225\n",
            "Attack Success Rate: 100.0\n",
            "Clean Valid Classification accuracy: 98.64899974019225\n",
            "Clean Classification accuracy: 98.64899974019225\n",
            "Attack Success Rate: 100.0\n",
            "Clean Valid Classification accuracy: 98.64899974019225\n",
            "Clean Classification accuracy: 98.64899974019225\n",
            "Attack Success Rate: 100.0\n",
            "Clean Valid Classification accuracy: 98.64899974019225\n",
            "Clean Classification accuracy: 98.64899974019225\n",
            "Attack Success Rate: 100.0\n",
            "Clean Valid Classification accuracy: 98.64899974019225\n",
            "Clean Classification accuracy: 98.64899974019225\n",
            "Attack Success Rate: 100.0\n",
            "Clean Valid Classification accuracy: 98.64899974019225\n",
            "Clean Classification accuracy: 98.64899974019225\n",
            "Attack Success Rate: 100.0\n",
            "Clean Valid Classification accuracy: 98.64899974019225\n",
            "Clean Classification accuracy: 98.64899974019225\n",
            "Attack Success Rate: 100.0\n",
            "Clean Valid Classification accuracy: 98.64899974019225\n",
            "Clean Classification accuracy: 98.64899974019225\n",
            "Attack Success Rate: 100.0\n",
            "Clean Valid Classification accuracy: 98.64899974019225\n",
            "Clean Classification accuracy: 98.64899974019225\n",
            "Attack Success Rate: 100.0\n",
            "Clean Valid Classification accuracy: 98.64899974019225\n",
            "Clean Classification accuracy: 98.64899974019225\n",
            "Attack Success Rate: 100.0\n",
            "Clean Valid Classification accuracy: 98.64899974019225\n",
            "Clean Classification accuracy: 98.64899974019225\n",
            "Attack Success Rate: 100.0\n",
            "Clean Valid Classification accuracy: 98.64899974019225\n",
            "Clean Classification accuracy: 98.64899974019225\n",
            "Attack Success Rate: 100.0\n",
            "Clean Valid Classification accuracy: 98.64899974019225\n",
            "Clean Classification accuracy: 98.64899974019225\n",
            "Attack Success Rate: 100.0\n",
            "Clean Valid Classification accuracy: 98.64899974019225\n",
            "Clean Classification accuracy: 98.64899974019225\n",
            "Attack Success Rate: 100.0\n",
            "Clean Valid Classification accuracy: 98.64899974019225\n",
            "Clean Classification accuracy: 98.64899974019225\n",
            "Attack Success Rate: 100.0\n",
            "Clean Valid Classification accuracy: 98.64899974019225\n",
            "Clean Classification accuracy: 98.64899974019225\n",
            "Attack Success Rate: 100.0\n",
            "Clean Valid Classification accuracy: 98.64899974019225\n",
            "Clean Classification accuracy: 98.64899974019225\n",
            "Attack Success Rate: 100.0\n",
            "Clean Valid Classification accuracy: 98.64899974019225\n",
            "Clean Classification accuracy: 98.64899974019225\n",
            "Attack Success Rate: 100.0\n",
            "Clean Valid Classification accuracy: 98.64899974019225\n",
            "Clean Classification accuracy: 98.64899974019225\n",
            "Attack Success Rate: 100.0\n",
            "Clean Valid Classification accuracy: 98.64899974019225\n",
            "Clean Classification accuracy: 98.64899974019225\n",
            "Attack Success Rate: 100.0\n",
            "Clean Valid Classification accuracy: 98.64899974019225\n",
            "Clean Classification accuracy: 98.64899974019225\n",
            "Attack Success Rate: 100.0\n",
            "Clean Valid Classification accuracy: 98.64899974019225\n",
            "Clean Classification accuracy: 98.64899974019225\n",
            "Attack Success Rate: 100.0\n",
            "Clean Valid Classification accuracy: 98.64899974019225\n",
            "Clean Classification accuracy: 98.64899974019225\n",
            "Attack Success Rate: 100.0\n",
            "Clean Valid Classification accuracy: 98.64899974019225\n",
            "Clean Classification accuracy: 98.64899974019225\n",
            "Attack Success Rate: 100.0\n",
            "Clean Valid Classification accuracy: 98.64899974019225\n",
            "Clean Classification accuracy: 98.64899974019225\n",
            "Attack Success Rate: 100.0\n",
            "Clean Valid Classification accuracy: 98.64899974019225\n",
            "Clean Classification accuracy: 98.64899974019225\n",
            "Attack Success Rate: 100.0\n",
            "Clean Valid Classification accuracy: 98.64899974019225\n",
            "Clean Classification accuracy: 98.64899974019225\n",
            "Attack Success Rate: 100.0\n",
            "Clean Valid Classification accuracy: 98.64899974019225\n",
            "Clean Classification accuracy: 98.64899974019225\n",
            "Attack Success Rate: 100.0\n",
            "Clean Valid Classification accuracy: 98.64899974019225\n",
            "Clean Classification accuracy: 98.64899974019225\n",
            "Attack Success Rate: 100.0\n",
            "Clean Valid Classification accuracy: 98.64899974019225\n",
            "Clean Classification accuracy: 98.64899974019225\n",
            "Attack Success Rate: 100.0\n",
            "Clean Valid Classification accuracy: 98.64899974019225\n",
            "Clean Classification accuracy: 98.64899974019225\n",
            "Attack Success Rate: 100.0\n",
            "Clean Valid Classification accuracy: 98.64033948211657\n",
            "Clean Classification accuracy: 98.64033948211657\n",
            "Attack Success Rate: 100.0\n",
            "Clean Valid Classification accuracy: 98.64033948211657\n",
            "Clean Classification accuracy: 98.64033948211657\n",
            "Attack Success Rate: 100.0\n",
            "Clean Valid Classification accuracy: 98.63167922404088\n",
            "Clean Classification accuracy: 98.63167922404088\n",
            "Attack Success Rate: 100.0\n",
            "Clean Valid Classification accuracy: 98.65765999826795\n",
            "Clean Classification accuracy: 98.65765999826795\n",
            "Attack Success Rate: 100.0\n",
            "Clean Valid Classification accuracy: 98.64899974019225\n",
            "Clean Classification accuracy: 98.64899974019225\n",
            "Attack Success Rate: 100.0\n",
            "Clean Valid Classification accuracy: 98.6056984498138\n",
            "Clean Classification accuracy: 98.6056984498138\n",
            "Attack Success Rate: 100.0\n",
            "Clean Valid Classification accuracy: 98.57105741751104\n",
            "Clean Classification accuracy: 98.57105741751104\n",
            "Attack Success Rate: 100.0\n",
            "Clean Valid Classification accuracy: 98.53641638520828\n",
            "Clean Classification accuracy: 98.53641638520828\n",
            "Attack Success Rate: 100.0\n",
            "Clean Valid Classification accuracy: 98.19000606218066\n",
            "Clean Classification accuracy: 98.19000606218066\n",
            "Attack Success Rate: 100.0\n",
            "Clean Valid Classification accuracy: 97.65307006148784\n",
            "Clean Classification accuracy: 97.65307006148784\n",
            "Attack Success Rate: 100.0\n",
            "Clean Valid Classification accuracy: 97.50584567420108\n",
            "Clean Classification accuracy: 97.50584567420108\n",
            "Attack Success Rate: 100.0\n",
            "Clean Valid Classification accuracy: 95.75647354291158\n"
          ]
        },
        {
          "name": "stderr",
          "output_type": "stream",
          "text": [
            "/home/hx759/.local/lib/python3.8/site-packages/keras/engine/functional.py:1410: CustomMaskWarning: Custom mask layers require a config and must override get_config. When loading, the custom mask layer must be passed to the custom_objects argument.\n",
            "  layer_config = serialize_layer_fn(layer)\n"
          ]
        },
        {
          "name": "stdout",
          "output_type": "stream",
          "text": [
            "Clean Classification accuracy: 95.75647354291158\n",
            "Attack Success Rate: 100.0\n",
            "Clean Valid Classification accuracy: 95.20221702606739\n",
            "Clean Classification accuracy: 95.20221702606739\n",
            "Attack Success Rate: 99.9913397419243\n",
            "Clean Valid Classification accuracy: 94.7172425738287\n",
            "Clean Classification accuracy: 94.7172425738287\n",
            "Attack Success Rate: 99.9913397419243\n",
            "Clean Valid Classification accuracy: 92.09318437689443\n",
            "Clean Classification accuracy: 92.09318437689443\n",
            "Attack Success Rate: 99.9913397419243\n",
            "Clean Valid Classification accuracy: 91.49562656967177\n",
            "Clean Classification accuracy: 91.49562656967177\n",
            "Attack Success Rate: 99.9913397419243\n",
            "Clean Valid Classification accuracy: 91.01931237550879\n",
            "Clean Classification accuracy: 91.01931237550879\n",
            "Attack Success Rate: 99.98267948384861\n",
            "Clean Valid Classification accuracy: 89.17467740538669\n",
            "Clean Classification accuracy: 89.17467740538669\n",
            "Attack Success Rate: 80.73958603966398\n",
            "Clean Valid Classification accuracy: 84.43751623798389\n",
            "Clean Classification accuracy: 84.43751623798389\n",
            "Attack Success Rate: 77.015675067117\n",
            "Clean Valid Classification accuracy: 76.48739932449988\n",
            "Clean Classification accuracy: 76.48739932449988\n",
            "Attack Success Rate: 35.71490430414826\n",
            "Clean Valid Classification accuracy: 54.8627349095003\n",
            "Clean Classification accuracy: 54.8627349095003\n",
            "Attack Success Rate: 6.954187234779596\n",
            "Clean Valid Classification accuracy: 27.08928726076037\n",
            "Clean Classification accuracy: 27.08928726076037\n",
            "Attack Success Rate: 0.4243526457088421\n",
            "Clean Valid Classification accuracy: 13.87373343725643\n",
            "Clean Classification accuracy: 13.87373343725643\n",
            "Attack Success Rate: 0.0\n",
            "Clean Valid Classification accuracy: 7.101411622066338\n",
            "Clean Classification accuracy: 7.101411622066338\n",
            "Attack Success Rate: 0.0\n",
            "Clean Valid Classification accuracy: 1.5501861955486274\n",
            "Clean Classification accuracy: 1.5501861955486274\n",
            "Attack Success Rate: 0.0\n",
            "Clean Valid Classification accuracy: 0.7188014202823244\n",
            "Clean Classification accuracy: 0.7188014202823244\n",
            "Attack Success Rate: 0.0\n",
            "Clean Valid Classification accuracy: 0.0779423226812159\n",
            "Clean Classification accuracy: 0.0779423226812159\n",
            "Attack Success Rate: 0.0\n"
          ]
        }
      ],
      "source": [
        "conv3_num = 60\n",
        "\n",
        "seq_sort = np.argsort(activation)\n",
        "\n",
        "X_list = [0.02,0.04,0.10,0.30]\n",
        "sa=1\n",
        "acc_list = []\n",
        "asr_list = []\n",
        "\n",
        "conv3 = net.get_layer(\"conv_3\")\n",
        "weight,bias = conv3.get_weights()\n",
        "\n",
        "for i in range(60):\n",
        "    channel = seq_sort[i]\n",
        "\n",
        "    #conv3 = net.get_layer(\"conv_3\")\n",
        "    #weight,bias = conv3.get_weights()\n",
        "    weight[:, :, :, channel] = 0. \n",
        "    bias[channel] = 0.\n",
        "    conv3.set_weights((weight,bias))\n",
        "\n",
        "    cl_label_v = np.argmax(net.predict(cl_x_valid), axis=1)\n",
        "    valid_accuracy = np.mean(np.equal(cl_label_v, cl_y_valid))*100\n",
        "    print('Clean Valid Classification accuracy:', valid_accuracy)\n",
        "\n",
        "    if valid_accuracy < or_accuracy*(1-X_list[0]) and sa == 1:\n",
        "      net.save(\"2% model.h5\")\n",
        "      sa = 2\n",
        "    elif valid_accuracy < or_accuracy*(1-X_list[1]) and sa == 2:\n",
        "      net.save(\"4% model.h5\")\n",
        "      sa = 3\n",
        "    elif valid_accuracy < or_accuracy*(1-X_list[2]) and sa == 3:\n",
        "      net.save(\"10% model.h5\")\n",
        "      sa = 4\n",
        "    elif valid_accuracy < or_accuracy*(1-X_list[3]) and sa == 4:\n",
        "      net.save(\"30% model.h5\")\n",
        "\n",
        "    cl_label_p = np.argmax(net.predict(cl_x_test), axis=1)\n",
        "    clean_accuracy = np.mean(np.equal(cl_label_p, cl_y_test))*100\n",
        "    print('Clean Classification accuracy:', clean_accuracy)\n",
        "\n",
        "    acc_list.append(clean_accuracy)\n",
        "    \n",
        "    bd_label_p = np.argmax(net.predict(bd_x_test), axis=1)\n",
        "    asr = np.mean(np.equal(bd_label_p, bd_y_test))*100\n",
        "    print('Attack Success Rate:', asr)\n",
        "\n",
        "    asr_list.append(asr)"
      ]
    },
    {
      "cell_type": "markdown",
      "source": [
        "this is the figure of the accuracy on clean test data and the attack success rate (on backdoored test data) as a function of the fraction of channels pruned. we can overserve that the clean acc and attack success rate remains high for the first 80% fraction of channels pruned, and rapidly decrease for the rest 20% channels. so this prune defense is not working for this model. I think it is becuase this attack is pruning-aware attack."
      ],
      "metadata": {
        "id": "myrnlnJ1CIpb"
      }
    },
    {
      "cell_type": "code",
      "execution_count": null,
      "metadata": {
        "colab": {
          "base_uri": "https://localhost:8080/",
          "height": 188
        },
        "id": "QU8sdLVfUbYi",
        "outputId": "9b50d582-1993-42b9-d88b-18f28cff951f"
      },
      "outputs": [
        {
          "data": {
            "text/plain": [
              "<matplotlib.legend.Legend at 0x15388080f280>"
            ]
          },
          "execution_count": 28,
          "metadata": {},
          "output_type": "execute_result"
        },
        {
          "data": {
            "image/png": "[encoded data removed]",
            "text/plain": [
              "<Figure size 432x288 with 1 Axes>"
            ]
          },
          "metadata": {
            "needs_background": "light"
          },
          "output_type": "display_data"
        }
      ],
      "source": [
        "import matplotlib.pyplot as plt\n",
        "\n",
        "xx = np.array(range(60))\n",
        "xx = xx/60\n",
        "\n",
        "plt.plot(xx, acc_list, label = 'Clean Acc')\n",
        "plt.plot(xx, asr_list, label = 'Attack Success Rate')\n",
        "\n",
        "plt.xlabel(\"fraction of channels pruned\")\n",
        "plt.ylabel(\"Accuracy\")\n",
        "\n",
        "plt.legend()"
      ]
    },
    {
      "cell_type": "markdown",
      "source": [
        "Below, i evaluate the 4 repaired networks for 4 diffierent X%. i showed the clean acc and attack success rate of the 4 G nets."
      ],
      "metadata": {
        "id": "XzQ-vBzyDLHt"
      }
    },
    {
      "cell_type": "code",
      "execution_count": null,
      "metadata": {
        "id": "qUYHMWeJB9oc",
        "outputId": "a1024f49-0348-4e9a-8ea4-6bfa1f4e6a13"
      },
      "outputs": [
        {
          "name": "stdout",
          "output_type": "stream",
          "text": [
            "Clean Classification accuracy for 2% G net: 95.61790941370053\n",
            "Attack Success Rate for 2% G net: 100.0\n"
          ]
        }
      ],
      "source": [
        "clean_data_filename = './valid.h5'\n",
        "poisoned_data_filename = './bd_valid.h5'\n",
        "model_filename = './bd_net.h5'\n",
        "b_prime_model_filename = './2% model.h5'\n",
        "\n",
        "cl_x_test, cl_y_test = data_loader(clean_data_filename)\n",
        "bd_x_test, bd_y_test = data_loader(poisoned_data_filename)\n",
        "net = keras.models.load_model(model_filename)\n",
        "b_prime_net = keras.models.load_model(b_prime_model_filename)\n",
        "\n",
        "cl_b = np.argmax(net.predict(cl_x_test), axis=1)\n",
        "cl_b_p = np.argmax(b_prime_net.predict(cl_x_test), axis=1)\n",
        "cl_g = []\n",
        "for x1, x2 in zip(cl_b, cl_b_p):\n",
        "    if x1 == x2:\n",
        "        cl_g.append(x1)\n",
        "    else:\n",
        "        cl_g.append(1283)\n",
        "\n",
        "cl_g_acc = np.mean(np.equal(cl_g, cl_y_test))*100\n",
        "print('Clean Classification accuracy for 2% G net:', cl_g_acc)\n",
        "    \n",
        "    \n",
        "    \n",
        "bd_b = np.argmax(net.predict(bd_x_test), axis=1)\n",
        "bd_b_p = np.argmax(b_prime_net.predict(bd_x_test), axis=1)\n",
        "bd_g = []\n",
        "for x1, x2 in zip(bd_b, bd_b_p):\n",
        "    if x1 == x2:\n",
        "        bd_g.append(x1)\n",
        "    else:\n",
        "        bd_g.append(1283)\n",
        "        \n",
        "asr = np.mean(np.equal(bd_g, bd_y_test))*100\n",
        "print('Attack Success Rate for 2% G net:', asr)"
      ]
    },
    {
      "cell_type": "code",
      "execution_count": null,
      "metadata": {
        "id": "xH9ijud_B9od",
        "outputId": "37023c95-5ca4-457f-9bf1-22512c8a64e5"
      },
      "outputs": [
        {
          "name": "stdout",
          "output_type": "stream",
          "text": [
            "Clean Classification accuracy for 4% G net: 91.85935740885078\n",
            "Attack Success Rate for 4% G net: 99.9913397419243\n"
          ]
        }
      ],
      "source": [
        "clean_data_filename = './valid.h5'\n",
        "poisoned_data_filename = './bd_valid.h5'\n",
        "model_filename = './bd_net.h5'\n",
        "b_prime_model_filename = './4% model.h5'\n",
        "\n",
        "cl_x_test, cl_y_test = data_loader(clean_data_filename)\n",
        "bd_x_test, bd_y_test = data_loader(poisoned_data_filename)\n",
        "net = keras.models.load_model(model_filename)\n",
        "b_prime_net = keras.models.load_model(b_prime_model_filename)\n",
        "\n",
        "cl_b = np.argmax(net.predict(cl_x_test), axis=1)\n",
        "cl_b_p = np.argmax(b_prime_net.predict(cl_x_test), axis=1)\n",
        "cl_g = []\n",
        "for x1, x2 in zip(cl_b, cl_b_p):\n",
        "    if x1 == x2:\n",
        "        cl_g.append(x1)\n",
        "    else:\n",
        "        cl_g.append(1283)\n",
        "\n",
        "cl_g_acc = np.mean(np.equal(cl_g, cl_y_test))*100\n",
        "print('Clean Classification accuracy for 4% G net:', cl_g_acc)\n",
        "    \n",
        "    \n",
        "    \n",
        "bd_b = np.argmax(net.predict(bd_x_test), axis=1)\n",
        "bd_b_p = np.argmax(b_prime_net.predict(bd_x_test), axis=1)\n",
        "bd_g = []\n",
        "for x1, x2 in zip(bd_b, bd_b_p):\n",
        "    if x1 == x2:\n",
        "        bd_g.append(x1)\n",
        "    else:\n",
        "        bd_g.append(1283)\n",
        "        \n",
        "asr = np.mean(np.equal(bd_g, bd_y_test))*100\n",
        "print('Attack Success Rate for 4% G net:', asr)"
      ]
    },
    {
      "cell_type": "code",
      "execution_count": null,
      "metadata": {
        "id": "t-u-QrYgB9od",
        "outputId": "25f4b75c-2add-4843-8228-59389ae3ae0b"
      },
      "outputs": [
        {
          "name": "stdout",
          "output_type": "stream",
          "text": [
            "Clean Classification accuracy for 10% G net: 84.24699056031871\n",
            "Attack Success Rate for 10% G net: 77.015675067117\n"
          ]
        }
      ],
      "source": [
        "clean_data_filename = './valid.h5'\n",
        "poisoned_data_filename = './bd_valid.h5'\n",
        "model_filename = './bd_net.h5'\n",
        "b_prime_model_filename = './10% model.h5'\n",
        "\n",
        "cl_x_test, cl_y_test = data_loader(clean_data_filename)\n",
        "bd_x_test, bd_y_test = data_loader(poisoned_data_filename)\n",
        "net = keras.models.load_model(model_filename)\n",
        "b_prime_net = keras.models.load_model(b_prime_model_filename)\n",
        "\n",
        "cl_b = np.argmax(net.predict(cl_x_test), axis=1)\n",
        "cl_b_p = np.argmax(b_prime_net.predict(cl_x_test), axis=1)\n",
        "cl_g = []\n",
        "for x1, x2 in zip(cl_b, cl_b_p):\n",
        "    if x1 == x2:\n",
        "        cl_g.append(x1)\n",
        "    else:\n",
        "        cl_g.append(1283)\n",
        "\n",
        "cl_g_acc = np.mean(np.equal(cl_g, cl_y_test))*100\n",
        "print('Clean Classification accuracy for 10% G net:', cl_g_acc)\n",
        "    \n",
        "    \n",
        "    \n",
        "bd_b = np.argmax(net.predict(bd_x_test), axis=1)\n",
        "bd_b_p = np.argmax(b_prime_net.predict(bd_x_test), axis=1)\n",
        "bd_g = []\n",
        "for x1, x2 in zip(bd_b, bd_b_p):\n",
        "    if x1 == x2:\n",
        "        bd_g.append(x1)\n",
        "    else:\n",
        "        bd_g.append(1283)\n",
        "        \n",
        "asr = np.mean(np.equal(bd_g, bd_y_test))*100\n",
        "print('Attack Success Rate for 10% G net:', asr)"
      ]
    },
    {
      "cell_type": "code",
      "execution_count": null,
      "metadata": {
        "id": "kOnNpsP6B9oe",
        "outputId": "af794412-e0fd-45fa-a4f1-8d271e802d0c"
      },
      "outputs": [
        {
          "name": "stdout",
          "output_type": "stream",
          "text": [
            "Clean Classification accuracy for 30% G net: 0.0779423226812159\n",
            "Attack Success Rate for 30% G net: 0.0\n"
          ]
        }
      ],
      "source": [
        "clean_data_filename = './valid.h5'\n",
        "poisoned_data_filename = './bd_valid.h5'\n",
        "model_filename = './bd_net.h5'\n",
        "b_prime_model_filename = './30% model.h5'\n",
        "\n",
        "cl_x_test, cl_y_test = data_loader(clean_data_filename)\n",
        "bd_x_test, bd_y_test = data_loader(poisoned_data_filename)\n",
        "net = keras.models.load_model(model_filename)\n",
        "b_prime_net = keras.models.load_model(b_prime_model_filename)\n",
        "\n",
        "cl_b = np.argmax(net.predict(cl_x_test), axis=1)\n",
        "cl_b_p = np.argmax(b_prime_net.predict(cl_x_test), axis=1)\n",
        "cl_g = []\n",
        "for x1, x2 in zip(cl_b, cl_b_p):\n",
        "    if x1 == x2:\n",
        "        cl_g.append(x1)\n",
        "    else:\n",
        "        cl_g.append(1283)\n",
        "\n",
        "cl_g_acc = np.mean(np.equal(cl_g, cl_y_test))*100\n",
        "print('Clean Classification accuracy for 30% G net:', cl_g_acc)\n",
        "    \n",
        "    \n",
        "    \n",
        "bd_b = np.argmax(net.predict(bd_x_test), axis=1)\n",
        "bd_b_p = np.argmax(b_prime_net.predict(bd_x_test), axis=1)\n",
        "bd_g = []\n",
        "for x1, x2 in zip(bd_b, bd_b_p):\n",
        "    if x1 == x2:\n",
        "        bd_g.append(x1)\n",
        "    else:\n",
        "        bd_g.append(1283)\n",
        "        \n",
        "asr = np.mean(np.equal(bd_g, bd_y_test))*100\n",
        "print('Attack Success Rate for 30% G net:', asr)"
      ]
    }
  ],
  "metadata": {
    "accelerator": "GPU",
    "colab": {
      "name": "21fall_MLCyber_lab3 (1).ipynb",
      "provenance": []
    },
    "kernelspec": {
      "display_name": "Python 3",
      "language": "python",
      "name": "python3"
    },
    "language_info": {
      "codemirror_mode": {
        "name": "ipython",
        "version": 3
      },
      "file_extension": ".py",
      "mimetype": "text/x-python",
      "name": "python",
      "nbconvert_exporter": "python",
      "pygments_lexer": "ipython3",
      "version": "3.8.6"
    }
  },
  "nbformat": 4,
  "nbformat_minor": 0
}